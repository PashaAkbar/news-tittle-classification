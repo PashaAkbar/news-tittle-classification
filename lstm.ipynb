{
 "cells": [
  {
   "cell_type": "code",
   "execution_count": 59,
   "metadata": {},
   "outputs": [],
   "source": [
    "import pandas as pd\n",
    "from tqdm import tqdm\n",
    "import nltk\n",
    "import re, string\n",
    "\n",
    "from nltk.tokenize import word_tokenize\n",
    "from nltk.corpus import stopwords \n",
    "from itertools import chain\n",
    "\n",
    "import numpy as np\n",
    "import pandas as pd\n",
    "import matplotlib.pyplot as plt\n",
    "from tensorflow.keras.preprocessing.text import Tokenizer\n",
    "from tensorflow.keras.layers import Embedding, LSTM, Dense, Dropout\n",
    "from tensorflow.keras.models import Sequential\n",
    "from tensorflow.keras.preprocessing.sequence import pad_sequences\n",
    "from tensorflow.keras.utils import to_categorical\n",
    "from sklearn.model_selection import train_test_split\n",
    "from imblearn.under_sampling import RandomUnderSampler\n",
    "from sklearn.metrics import accuracy_score, precision_score, recall_score, f1_score\n",
    "import tensorflow as tf\n",
    "from tensorflow.keras.utils import to_categorical\n",
    "import pickle\n"
   ]
  },
  {
   "cell_type": "code",
   "execution_count": 2,
   "metadata": {},
   "outputs": [
    {
     "data": {
      "text/plain": [
       "news       32360\n",
       "hot        16330\n",
       "finance    14168\n",
       "travel      6466\n",
       "inet        5640\n",
       "health      4919\n",
       "oto         4383\n",
       "food        4315\n",
       "sport       2436\n",
       "Name: category, dtype: int64"
      ]
     },
     "execution_count": 2,
     "metadata": {},
     "output_type": "execute_result"
    }
   ],
   "source": [
    "tqdm.pandas()\n",
    "\n",
    "df = pd.read_csv('data/indonesian-news-title.csv')\n",
    "df.head()\n",
    "# Total rows in each category\n",
    "df['category'].value_counts()"
   ]
  },
  {
   "cell_type": "code",
   "execution_count": 3,
   "metadata": {},
   "outputs": [
    {
     "data": {
      "text/plain": [
       "category\n",
       "finance     8.494001\n",
       "food       10.707068\n",
       "health      9.733889\n",
       "hot         9.100796\n",
       "inet        8.015071\n",
       "news       10.043850\n",
       "oto         8.791923\n",
       "sport       8.158046\n",
       "travel      8.131457\n",
       "Name: word_count, dtype: float64"
      ]
     },
     "execution_count": 3,
     "metadata": {},
     "output_type": "execute_result"
    }
   ],
   "source": [
    "# Get average words in each category\n",
    "df['word_count'] = df['title'].apply(lambda x: len(x.split()))\n",
    "df.groupby('category')['word_count'].mean()"
   ]
  },
  {
   "cell_type": "code",
   "execution_count": 4,
   "metadata": {},
   "outputs": [
    {
     "data": {
      "text/plain": [
       "category\n",
       "finance    54.488354\n",
       "food       66.314253\n",
       "health     63.867249\n",
       "hot        59.409063\n",
       "inet       52.488830\n",
       "news       65.721508\n",
       "oto        57.179101\n",
       "sport      54.797619\n",
       "travel     53.277761\n",
       "Name: char_count, dtype: float64"
      ]
     },
     "execution_count": 4,
     "metadata": {},
     "output_type": "execute_result"
    }
   ],
   "source": [
    "# Get average characters in each category\n",
    "df['char_count'] = df['title'].apply(lambda x: len(str(x)))\n",
    "df.groupby('category')['char_count'].mean()"
   ]
  },
  {
   "cell_type": "code",
   "execution_count": 5,
   "metadata": {},
   "outputs": [
    {
     "data": {
      "text/html": [
       "<div>\n",
       "<style scoped>\n",
       "    .dataframe tbody tr th:only-of-type {\n",
       "        vertical-align: middle;\n",
       "    }\n",
       "\n",
       "    .dataframe tbody tr th {\n",
       "        vertical-align: top;\n",
       "    }\n",
       "\n",
       "    .dataframe thead th {\n",
       "        text-align: right;\n",
       "    }\n",
       "</style>\n",
       "<table border=\"1\" class=\"dataframe\">\n",
       "  <thead>\n",
       "    <tr style=\"text-align: right;\">\n",
       "      <th></th>\n",
       "      <th>date</th>\n",
       "      <th>url</th>\n",
       "      <th>title</th>\n",
       "      <th>category</th>\n",
       "      <th>word_count</th>\n",
       "      <th>char_count</th>\n",
       "    </tr>\n",
       "  </thead>\n",
       "  <tbody>\n",
       "    <tr>\n",
       "      <th>1906</th>\n",
       "      <td>04/17/2020</td>\n",
       "      <td>https://finance.detik.com/detiktv/d-4980330/bl...</td>\n",
       "      <td>Blak-blakan Kartu Pra Kerja dan 'Nepotisme' de...</td>\n",
       "      <td>finance</td>\n",
       "      <td>9</td>\n",
       "      <td>62</td>\n",
       "    </tr>\n",
       "    <tr>\n",
       "      <th>3299</th>\n",
       "      <td>04/20/2020</td>\n",
       "      <td>https://finance.detik.com/detiktv/d-4983283/me...</td>\n",
       "      <td>Menteri Perdagangan Buka Kartu Stok Sembako Sa...</td>\n",
       "      <td>finance</td>\n",
       "      <td>8</td>\n",
       "      <td>55</td>\n",
       "    </tr>\n",
       "    <tr>\n",
       "      <th>3732</th>\n",
       "      <td>03/09/2020</td>\n",
       "      <td>https://finance.detik.com/market-research/d-49...</td>\n",
       "      <td>IHSG Diperkirakan Melemah di Awal Pekan</td>\n",
       "      <td>finance</td>\n",
       "      <td>6</td>\n",
       "      <td>39</td>\n",
       "    </tr>\n",
       "    <tr>\n",
       "      <th>5613</th>\n",
       "      <td>03/11/2020</td>\n",
       "      <td>https://finance.detik.com/berita-ekonomi-bisni...</td>\n",
       "      <td>Harga Emas Antam Turun Rp 3.000</td>\n",
       "      <td>finance</td>\n",
       "      <td>6</td>\n",
       "      <td>31</td>\n",
       "    </tr>\n",
       "    <tr>\n",
       "      <th>5779</th>\n",
       "      <td>01/22/2020</td>\n",
       "      <td>https://finance.detik.com/fintech/d-4868943/lo...</td>\n",
       "      <td>Lokasi Kantor Jadi Syarat Pinjol Dapat Izin OJK</td>\n",
       "      <td>finance</td>\n",
       "      <td>8</td>\n",
       "      <td>47</td>\n",
       "    </tr>\n",
       "    <tr>\n",
       "      <th>...</th>\n",
       "      <td>...</td>\n",
       "      <td>...</td>\n",
       "      <td>...</td>\n",
       "      <td>...</td>\n",
       "      <td>...</td>\n",
       "      <td>...</td>\n",
       "    </tr>\n",
       "    <tr>\n",
       "      <th>89764</th>\n",
       "      <td>01/18/2020</td>\n",
       "      <td>https://travel.detik.com/fototravel/d-4864101/...</td>\n",
       "      <td>Aksi Para Penunggang Kuda Menerobos Kobaran Ap...</td>\n",
       "      <td>travel</td>\n",
       "      <td>9</td>\n",
       "      <td>58</td>\n",
       "    </tr>\n",
       "    <tr>\n",
       "      <th>89932</th>\n",
       "      <td>04/03/2020</td>\n",
       "      <td>https://travel.detik.com/travel-news/d-4963492...</td>\n",
       "      <td>Rasakan Kenyamanan Work From Hotel di Fraser R...</td>\n",
       "      <td>travel</td>\n",
       "      <td>9</td>\n",
       "      <td>62</td>\n",
       "    </tr>\n",
       "    <tr>\n",
       "      <th>90206</th>\n",
       "      <td>06/03/2020</td>\n",
       "      <td>https://travel.detik.com/travel-news/d-5039514...</td>\n",
       "      <td>New Normal, VW Cabrio Borobudur Siap Sambut Wi...</td>\n",
       "      <td>travel</td>\n",
       "      <td>8</td>\n",
       "      <td>53</td>\n",
       "    </tr>\n",
       "    <tr>\n",
       "      <th>90444</th>\n",
       "      <td>04/14/2020</td>\n",
       "      <td>https://travel.detik.com/fototravel/d-4977157/...</td>\n",
       "      <td>5 Negara yang Diprediksi Paling Cepat Bangkit ...</td>\n",
       "      <td>travel</td>\n",
       "      <td>9</td>\n",
       "      <td>57</td>\n",
       "    </tr>\n",
       "    <tr>\n",
       "      <th>90922</th>\n",
       "      <td>04/29/2020</td>\n",
       "      <td>https://travel.detik.com/galeri-foto/d-4995695...</td>\n",
       "      <td>Keindahan Musim Semi yang Dirundung Corona</td>\n",
       "      <td>travel</td>\n",
       "      <td>6</td>\n",
       "      <td>42</td>\n",
       "    </tr>\n",
       "  </tbody>\n",
       "</table>\n",
       "<p>126 rows × 6 columns</p>\n",
       "</div>"
      ],
      "text/plain": [
       "             date                                                url  \\\n",
       "1906   04/17/2020  https://finance.detik.com/detiktv/d-4980330/bl...   \n",
       "3299   04/20/2020  https://finance.detik.com/detiktv/d-4983283/me...   \n",
       "3732   03/09/2020  https://finance.detik.com/market-research/d-49...   \n",
       "5613   03/11/2020  https://finance.detik.com/berita-ekonomi-bisni...   \n",
       "5779   01/22/2020  https://finance.detik.com/fintech/d-4868943/lo...   \n",
       "...           ...                                                ...   \n",
       "89764  01/18/2020  https://travel.detik.com/fototravel/d-4864101/...   \n",
       "89932  04/03/2020  https://travel.detik.com/travel-news/d-4963492...   \n",
       "90206  06/03/2020  https://travel.detik.com/travel-news/d-5039514...   \n",
       "90444  04/14/2020  https://travel.detik.com/fototravel/d-4977157/...   \n",
       "90922  04/29/2020  https://travel.detik.com/galeri-foto/d-4995695...   \n",
       "\n",
       "                                                   title category  word_count  \\\n",
       "1906   Blak-blakan Kartu Pra Kerja dan 'Nepotisme' de...  finance           9   \n",
       "3299   Menteri Perdagangan Buka Kartu Stok Sembako Sa...  finance           8   \n",
       "3732             IHSG Diperkirakan Melemah di Awal Pekan  finance           6   \n",
       "5613                     Harga Emas Antam Turun Rp 3.000  finance           6   \n",
       "5779     Lokasi Kantor Jadi Syarat Pinjol Dapat Izin OJK  finance           8   \n",
       "...                                                  ...      ...         ...   \n",
       "89764  Aksi Para Penunggang Kuda Menerobos Kobaran Ap...   travel           9   \n",
       "89932  Rasakan Kenyamanan Work From Hotel di Fraser R...   travel           9   \n",
       "90206  New Normal, VW Cabrio Borobudur Siap Sambut Wi...   travel           8   \n",
       "90444  5 Negara yang Diprediksi Paling Cepat Bangkit ...   travel           9   \n",
       "90922         Keindahan Musim Semi yang Dirundung Corona   travel           6   \n",
       "\n",
       "       char_count  \n",
       "1906           62  \n",
       "3299           55  \n",
       "3732           39  \n",
       "5613           31  \n",
       "5779           47  \n",
       "...           ...  \n",
       "89764          58  \n",
       "89932          62  \n",
       "90206          53  \n",
       "90444          57  \n",
       "90922          42  \n",
       "\n",
       "[126 rows x 6 columns]"
      ]
     },
     "execution_count": 5,
     "metadata": {},
     "output_type": "execute_result"
    }
   ],
   "source": [
    "# Is there any duplicated rows?\n",
    "df[df['title'].duplicated()]"
   ]
  },
  {
   "cell_type": "code",
   "execution_count": 6,
   "metadata": {},
   "outputs": [
    {
     "name": "stdout",
     "output_type": "stream",
     "text": [
      "Completed\n"
     ]
    },
    {
     "name": "stderr",
     "output_type": "stream",
     "text": [
      "[nltk_data] Downloading package punkt to\n",
      "[nltk_data]     C:\\Users\\ottot\\AppData\\Roaming\\nltk_data...\n",
      "[nltk_data]   Package punkt is already up-to-date!\n",
      "[nltk_data] Downloading package stopwords to\n",
      "[nltk_data]     C:\\Users\\ottot\\AppData\\Roaming\\nltk_data...\n",
      "[nltk_data]   Package stopwords is already up-to-date!\n",
      "[nltk_data] Downloading package wordnet to\n",
      "[nltk_data]     C:\\Users\\ottot\\AppData\\Roaming\\nltk_data...\n",
      "[nltk_data]   Package wordnet is already up-to-date!\n",
      "[nltk_data] Downloading package omw-1.4 to\n",
      "[nltk_data]     C:\\Users\\ottot\\AppData\\Roaming\\nltk_data...\n",
      "[nltk_data]   Package omw-1.4 is already up-to-date!\n"
     ]
    }
   ],
   "source": [
    "# Tokenizing\n",
    "nltk.download('punkt')\n",
    "# Stopwords removal\n",
    "nltk.download('stopwords')\n",
    "# Lemmatizer\n",
    "nltk.download('wordnet')\n",
    "nltk.download('omw-1.4')\n",
    "\n",
    "print('Completed')"
   ]
  },
  {
   "cell_type": "code",
   "execution_count": 7,
   "metadata": {},
   "outputs": [
    {
     "data": {
      "text/plain": [
       "<bound method IndexOpsMixin.value_counts of 0        finance\n",
       "1        finance\n",
       "2        finance\n",
       "3        finance\n",
       "4        finance\n",
       "          ...   \n",
       "91012     travel\n",
       "91013     travel\n",
       "91014     travel\n",
       "91015     travel\n",
       "91016     travel\n",
       "Name: category, Length: 42327, dtype: object>"
      ]
     },
     "execution_count": 7,
     "metadata": {},
     "output_type": "execute_result"
    }
   ],
   "source": [
    "# Dellete \"news\" and \"hot\" category to remove any overlapping category\n",
    "df.drop(df[df.category == 'news'].index, inplace=True)\n",
    "df.drop(df[df.category == 'hot'].index, inplace=True)\n",
    "\n",
    "# See category stats\n",
    "df['category'].value_counts"
   ]
  },
  {
   "cell_type": "code",
   "execution_count": 8,
   "metadata": {},
   "outputs": [
    {
     "data": {
      "text/plain": [
       "0                           Kemnaker Awasi TKA di Meikarta\n",
       "1                        BNI Digitalkan BNI Java Jazz 2020\n",
       "2        Terbang ke Australia, Edhy Prabowo Mau Genjot ...\n",
       "3        OJK Siapkan Stimulus Ekonomi Antisipasi Dampak...\n",
       "4        Saran Buat Anies-RK yang Mangkir Rapat Banjir ...\n",
       "                               ...                        \n",
       "91012    Ketumpahan Air Panas di Pesawat, Kamu Bisa Tun...\n",
       "91013    Foto: Bali & 9 Destinasi Paling Instagramable ...\n",
       "91014    Game Bikin Turis Ini Liburan ke Jepang untuk.....\n",
       "91015    Sekeluarga Didepak dari Pesawat, Maskapai Bila...\n",
       "91016    Kapal Raib di Segitiga Bermuda, Nyaris Seabad ...\n",
       "Name: title, Length: 42264, dtype: object"
      ]
     },
     "execution_count": 8,
     "metadata": {},
     "output_type": "execute_result"
    }
   ],
   "source": [
    "df.drop(df[df['title'].duplicated()].index, inplace=True)\n",
    "df['title']"
   ]
  },
  {
   "cell_type": "code",
   "execution_count": 9,
   "metadata": {},
   "outputs": [
    {
     "data": {
      "text/plain": [
       "0                           kemnaker awasi tka di meikarta\n",
       "1                            bni digitalkan bni java jazz \n",
       "2        terbang ke australia edhy prabowo mau genjot b...\n",
       "3        ojk siapkan stimulus ekonomi antisipasi dampak...\n",
       "4        saran buat anies rk yang mangkir rapat banjir ...\n",
       "                               ...                        \n",
       "91012    ketumpahan air panas di pesawat kamu bisa tunt...\n",
       "91013      foto bali destinasi paling instagramable tahun \n",
       "91014    game bikin turis ini liburan ke jepang untuk c...\n",
       "91015    sekeluarga didepak dari pesawat maskapai bilan...\n",
       "91016    kapal raib di segitiga bermuda nyaris seabad b...\n",
       "Name: title, Length: 42264, dtype: object"
      ]
     },
     "execution_count": 9,
     "metadata": {},
     "output_type": "execute_result"
    }
   ],
   "source": [
    "\n",
    "# Cleaning\n",
    "def cleaning(text):\n",
    "  # Case folding\n",
    "  text = text.lower() \n",
    "  # Trim text\n",
    "  text = text.strip()\n",
    "  # Remove punctuations, special characters, and double whitespace\n",
    "  text = re.compile('<.*?>').sub('', text) \n",
    "  text = re.compile('[%s]' % re.escape(string.punctuation)).sub(' ', text)\n",
    "  text = re.sub('\\s+', ' ', text)\n",
    "  # Number removal\n",
    "  text = re.sub(r'\\[[0-9]*\\]', ' ', text) \n",
    "  text = re.sub(r'[^\\w\\s]', '', str(text).lower().strip())\n",
    "  # Remove number and whitespaces\n",
    "  text = re.sub(r'\\d', ' ', text)\n",
    "  text = re.sub(r'\\s+', ' ', text)\n",
    "\n",
    "  return text\n",
    "\n",
    "df['title'] = df['title'].apply(lambda x: cleaning(x))\n",
    "df['title']"
   ]
  },
  {
   "cell_type": "code",
   "execution_count": 10,
   "metadata": {},
   "outputs": [
    {
     "data": {
      "text/plain": [
       "0                     [kemnaker, awasi, tka, di, meikarta]\n",
       "1                       [bni, digitalkan, bni, java, jazz]\n",
       "2        [terbang, ke, australia, edhy, prabowo, mau, g...\n",
       "3        [ojk, siapkan, stimulus, ekonomi, antisipasi, ...\n",
       "4        [saran, buat, anies, rk, yang, mangkir, rapat,...\n",
       "                               ...                        \n",
       "91012    [ketumpahan, air, panas, di, pesawat, kamu, bi...\n",
       "91013    [foto, bali, destinasi, paling, instagramable,...\n",
       "91014    [game, bikin, turis, ini, liburan, ke, jepang,...\n",
       "91015    [sekeluarga, didepak, dari, pesawat, maskapai,...\n",
       "91016    [kapal, raib, di, segitiga, bermuda, nyaris, s...\n",
       "Name: tokens, Length: 42264, dtype: object"
      ]
     },
     "execution_count": 10,
     "metadata": {},
     "output_type": "execute_result"
    }
   ],
   "source": [
    "df['tokens'] = df['title'].apply(lambda x: word_tokenize(x))\n",
    "df['tokens']"
   ]
  },
  {
   "cell_type": "code",
   "execution_count": 11,
   "metadata": {},
   "outputs": [
    {
     "data": {
      "text/plain": [
       "0                         [kemnaker, awasi, tka, meikarta]\n",
       "1                       [bni, digitalkan, bni, java, jazz]\n",
       "2        [terbang, australia, edhy, prabowo, genjot, bu...\n",
       "3        [ojk, siapkan, stimulus, ekonomi, antisipasi, ...\n",
       "4          [saran, anies, rk, mangkir, rapat, banjir, dpr]\n",
       "                               ...                        \n",
       "91012    [ketumpahan, air, panas, pesawat, tuntut, mask...\n",
       "91013               [foto, bali, destinasi, instagramable]\n",
       "91014    [game, bikin, turis, liburan, jepang, cari, ya...\n",
       "91015    [sekeluarga, didepak, pesawat, maskapai, bilan...\n",
       "91016     [kapal, raib, segitiga, bermuda, seabad, ketemu]\n",
       "Name: tokens, Length: 42264, dtype: object"
      ]
     },
     "execution_count": 11,
     "metadata": {},
     "output_type": "execute_result"
    }
   ],
   "source": [
    "stop_words = set(chain(stopwords.words('indonesian'), stopwords.words('english')))\n",
    "\n",
    "df['tokens'].apply(lambda x: [w for w in x if not w in stop_words])"
   ]
  },
  {
   "cell_type": "code",
   "execution_count": null,
   "metadata": {},
   "outputs": [],
   "source": [
    "from Sastrawi.Stemmer.StemmerFactory import StemmerFactory\n",
    "\n",
    "factory = StemmerFactory()\n",
    "stemmer = factory.create_stemmer()\n",
    " \n",
    "df['tokens'] = df['tokens'].progress_apply(lambda x: stemmer.stem(' '.join(x)).split(' '))\n",
    "df['tokens']"
   ]
  },
  {
   "cell_type": "code",
   "execution_count": 61,
   "metadata": {},
   "outputs": [],
   "source": [
    "\n",
    "df['tokens'] = np.load('tokenized.npy',allow_pickle=True)\n",
    "df['joined_tokens'] = df['tokens'].apply(lambda x: ' '.join(x))\n",
    "tokenizer = Tokenizer(num_words=max_features, split=' ')\n",
    "tokenizer.fit_on_texts(df['joined_tokens'].values)\n",
    "\n",
    "X = tokenizer.texts_to_sequences(df['joined_tokens'].values)\n",
    "X = pad_sequences(X, maxlen=max_len)\n",
    "Y = pd.get_dummies(df['category']).values"
   ]
  },
  {
   "cell_type": "code",
   "execution_count": 78,
   "metadata": {},
   "outputs": [
    {
     "name": "stdout",
     "output_type": "stream",
     "text": [
      "['finance' 'food' 'health' 'inet' 'oto' 'sport' 'travel']\n"
     ]
    }
   ],
   "source": [
    "import pandas as pd\n",
    "label = pd.Series(df['category']).unique()\n",
    "print(label)"
   ]
  },
  {
   "cell_type": "code",
   "execution_count": 62,
   "metadata": {},
   "outputs": [],
   "source": [
    "\n",
    "X_train, X_test, y_train, y_test = train_test_split(X, Y, test_size=0.3, random_state=42)"
   ]
  },
  {
   "cell_type": "code",
   "execution_count": 63,
   "metadata": {},
   "outputs": [
    {
     "name": "stdout",
     "output_type": "stream",
     "text": [
      "[[1 0 0 ... 0 0 0]\n",
      " [1 0 0 ... 0 0 0]\n",
      " [1 0 0 ... 0 0 0]\n",
      " ...\n",
      " [0 0 0 ... 0 0 1]\n",
      " [0 0 0 ... 0 0 1]\n",
      " [0 0 0 ... 0 0 1]]\n"
     ]
    }
   ],
   "source": [
    "print(Y)"
   ]
  },
  {
   "cell_type": "code",
   "execution_count": null,
   "metadata": {},
   "outputs": [],
   "source": []
  },
  {
   "cell_type": "code",
   "execution_count": null,
   "metadata": {},
   "outputs": [],
   "source": []
  },
  {
   "cell_type": "code",
   "execution_count": 66,
   "metadata": {},
   "outputs": [],
   "source": [
    "# Inisiliasi max feature dan max_length\n",
    "max_features = 2000\n",
    "max_len = 200\n"
   ]
  },
  {
   "cell_type": "code",
   "execution_count": 65,
   "metadata": {},
   "outputs": [
    {
     "ename": "AttributeError",
     "evalue": "'numpy.ndarray' object has no attribute 'apply'",
     "output_type": "error",
     "traceback": [
      "\u001b[1;31m---------------------------------------------------------------------------\u001b[0m",
      "\u001b[1;31mAttributeError\u001b[0m                            Traceback (most recent call last)",
      "Cell \u001b[1;32mIn[65], line 1\u001b[0m\n\u001b[1;32m----> 1\u001b[0m max_length \u001b[39m=\u001b[39m X_train\u001b[39m.\u001b[39;49mapply(\u001b[39mlen\u001b[39m)\u001b[39m.\u001b[39mmax() \u001b[39m-\u001b[39m \u001b[39m1\u001b[39m\n\u001b[0;32m      2\u001b[0m \u001b[39mprint\u001b[39m(max_length)\n",
      "\u001b[1;31mAttributeError\u001b[0m: 'numpy.ndarray' object has no attribute 'apply'"
     ]
    }
   ],
   "source": []
  },
  {
   "cell_type": "code",
   "execution_count": 68,
   "metadata": {},
   "outputs": [],
   "source": [
    "# Buat Model LSTM\n",
    "model = Sequential()\n",
    "model.add(Embedding(max_features, 64, input_length=max_len))\n",
    "model.add(LSTM(64 , dropout=0.2, recurrent_dropout=0.2))\n",
    "model.add(Dense(7, activation='softmax'))"
   ]
  },
  {
   "cell_type": "code",
   "execution_count": 69,
   "metadata": {},
   "outputs": [],
   "source": [
    "# Compile Model\n",
    "model.compile(loss='categorical_crossentropy', optimizer='adam', metrics=['accuracy'])"
   ]
  },
  {
   "cell_type": "code",
   "execution_count": 71,
   "metadata": {},
   "outputs": [
    {
     "name": "stdout",
     "output_type": "stream",
     "text": [
      "Epoch 1/10\n",
      "463/463 [==============================] - 88s 190ms/step - loss: 0.8582 - accuracy: 0.7066 - val_loss: 0.5280 - val_accuracy: 0.8252\n",
      "Epoch 2/10\n",
      "463/463 [==============================] - 91s 197ms/step - loss: 0.4713 - accuracy: 0.8461 - val_loss: 0.4901 - val_accuracy: 0.8379\n",
      "Epoch 3/10\n",
      "463/463 [==============================] - 88s 189ms/step - loss: 0.4060 - accuracy: 0.8654 - val_loss: 0.4832 - val_accuracy: 0.8397\n",
      "Epoch 4/10\n",
      "463/463 [==============================] - 92s 198ms/step - loss: 0.3710 - accuracy: 0.8734 - val_loss: 0.4814 - val_accuracy: 0.8392\n",
      "Epoch 5/10\n",
      "463/463 [==============================] - 89s 192ms/step - loss: 0.3467 - accuracy: 0.8801 - val_loss: 0.4916 - val_accuracy: 0.8394\n",
      "Epoch 6/10\n",
      "463/463 [==============================] - 90s 194ms/step - loss: 0.3276 - accuracy: 0.8884 - val_loss: 0.4968 - val_accuracy: 0.8380\n",
      "Epoch 7/10\n",
      "463/463 [==============================] - 99s 215ms/step - loss: 0.3130 - accuracy: 0.8929 - val_loss: 0.5180 - val_accuracy: 0.8369\n",
      "Epoch 8/10\n",
      "463/463 [==============================] - 92s 199ms/step - loss: 0.3005 - accuracy: 0.8941 - val_loss: 0.5179 - val_accuracy: 0.8315\n",
      "Epoch 9/10\n",
      "463/463 [==============================] - 96s 207ms/step - loss: 0.2844 - accuracy: 0.9000 - val_loss: 0.5360 - val_accuracy: 0.8345\n",
      "Epoch 10/10\n",
      "463/463 [==============================] - 104s 224ms/step - loss: 0.2728 - accuracy: 0.9036 - val_loss: 0.5472 - val_accuracy: 0.8338\n"
     ]
    }
   ],
   "source": [
    "batch_size = 64\n",
    "history = model.fit(X_train, y_train, epochs=10, batch_size=batch_size, validation_data=(X_test, y_test))"
   ]
  },
  {
   "cell_type": "code",
   "execution_count": 72,
   "metadata": {},
   "outputs": [
    {
     "data": {
      "image/png": "[encoded data removed]",
      "text/plain": [
       "<Figure size 640x480 with 1 Axes>"
      ]
     },
     "metadata": {},
     "output_type": "display_data"
    }
   ],
   "source": [
    "# Plot the training and validation accuracy\n",
    "plt.plot(history.history['accuracy'])\n",
    "plt.plot(history.history['val_accuracy'])\n",
    "plt.title('Model Accuracy')\n",
    "plt.ylabel('Accuracy')\n",
    "plt.xlabel('Epoch')\n",
    "plt.legend(['train', 'test'], loc='upper left')\n",
    "plt.savefig('accuracy_new.png')\n",
    "plt.show()\n",
    "\n"
   ]
  },
  {
   "cell_type": "code",
   "execution_count": 74,
   "metadata": {},
   "outputs": [
    {
     "name": "stdout",
     "output_type": "stream",
     "text": [
      "397/397 [==============================] - 7s 18ms/step\n",
      "Accuracy: 0.8152996845425867\n",
      "Precision: 0.8578541199900424\n",
      "Recall: 0.8152996845425867\n",
      "F-1 Score: 0.8360357446120255\n"
     ]
    }
   ],
   "source": [
    "# predict on test set\n",
    "y_pred = model.predict(X_test)\n",
    "y_pred = np.round(y_pred).astype(int)\n",
    "\n",
    "# calculate metrics\n",
    "accuracy = accuracy_score(y_test, y_pred)\n",
    "precision = precision_score(y_test, y_pred, average='micro')\n",
    "recall = recall_score(y_test, y_pred, average='micro')\n",
    "f1 = f1_score(y_test, y_pred, average='micro')\n",
    "\n",
    "print('Accuracy:', accuracy)\n",
    "print('Precision:', precision)\n",
    "print('Recall:', recall)\n",
    "print('F-1 Score:', f1)"
   ]
  },
  {
   "cell_type": "code",
   "execution_count": 75,
   "metadata": {},
   "outputs": [
    {
     "name": "stdout",
     "output_type": "stream",
     "text": [
      "Keras weights file (<HDF5 file \"variables.h5\" (mode r+)>) saving:\n",
      "...layers\\dense\n",
      "......vars\n",
      ".........0\n",
      ".........1\n",
      "...layers\\embedding\n",
      "......vars\n",
      ".........0\n",
      "...layers\\lstm\n",
      "......vars\n",
      "...layers\\lstm\\cell\n",
      "......vars\n",
      ".........0\n",
      ".........1\n",
      ".........2\n",
      "...metrics\\mean\n",
      "......vars\n",
      ".........0\n",
      ".........1\n",
      "...metrics\\mean_metric_wrapper\n",
      "......vars\n",
      ".........0\n",
      ".........1\n",
      "...optimizer\n",
      "......vars\n",
      ".........0\n",
      ".........1\n",
      ".........10\n",
      ".........11\n",
      ".........12\n",
      ".........2\n",
      ".........3\n",
      ".........4\n",
      ".........5\n",
      ".........6\n",
      ".........7\n",
      ".........8\n",
      ".........9\n",
      "...vars\n",
      "Keras model archive saving:\n",
      "File Name                                             Modified             Size\n",
      "config.json                                    2023-03-27 12:56:09         2217\n",
      "metadata.json                                  2023-03-27 12:56:09           64\n",
      "variables.h5                                   2023-03-27 12:56:09      1962384\n"
     ]
    }
   ],
   "source": [
    "import pickle\n",
    "filename = 'finalized_model.sav'\n",
    "pickle.dump(model, open(filename, 'wb'))"
   ]
  },
  {
   "cell_type": "code",
   "execution_count": null,
   "metadata": {},
   "outputs": [],
   "source": []
  }
 ],
 "metadata": {
  "kernelspec": {
   "display_name": "Python 3",
   "language": "python",
   "name": "python3"
  },
  "language_info": {
   "name": "python",
   "version": "3.10.0"
  },
  "orig_nbformat": 4
 },
 "nbformat": 4,
 "nbformat_minor": 2
}
