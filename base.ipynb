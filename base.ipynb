{
 "cells": [
  {
   "cell_type": "code",
   "execution_count": 1,
   "metadata": {},
   "outputs": [
    {
     "data": {
      "text/html": [
       "<div>\n",
       "<style scoped>\n",
       "    .dataframe tbody tr th:only-of-type {\n",
       "        vertical-align: middle;\n",
       "    }\n",
       "\n",
       "    .dataframe tbody tr th {\n",
       "        vertical-align: top;\n",
       "    }\n",
       "\n",
       "    .dataframe thead th {\n",
       "        text-align: right;\n",
       "    }\n",
       "</style>\n",
       "<table border=\"1\" class=\"dataframe\">\n",
       "  <thead>\n",
       "    <tr style=\"text-align: right;\">\n",
       "      <th></th>\n",
       "      <th>date</th>\n",
       "      <th>url</th>\n",
       "      <th>title</th>\n",
       "      <th>category</th>\n",
       "    </tr>\n",
       "  </thead>\n",
       "  <tbody>\n",
       "    <tr>\n",
       "      <th>0</th>\n",
       "      <td>02/26/2020</td>\n",
       "      <td>https://finance.detik.com/berita-ekonomi-bisni...</td>\n",
       "      <td>Kemnaker Awasi TKA di Meikarta</td>\n",
       "      <td>finance</td>\n",
       "    </tr>\n",
       "    <tr>\n",
       "      <th>1</th>\n",
       "      <td>02/26/2020</td>\n",
       "      <td>https://finance.detik.com/berita-ekonomi-bisni...</td>\n",
       "      <td>BNI Digitalkan BNI Java Jazz 2020</td>\n",
       "      <td>finance</td>\n",
       "    </tr>\n",
       "    <tr>\n",
       "      <th>2</th>\n",
       "      <td>02/26/2020</td>\n",
       "      <td>https://finance.detik.com/berita-ekonomi-bisni...</td>\n",
       "      <td>Terbang ke Australia, Edhy Prabowo Mau Genjot ...</td>\n",
       "      <td>finance</td>\n",
       "    </tr>\n",
       "    <tr>\n",
       "      <th>3</th>\n",
       "      <td>02/26/2020</td>\n",
       "      <td>https://finance.detik.com/moneter/d-4916133/oj...</td>\n",
       "      <td>OJK Siapkan Stimulus Ekonomi Antisipasi Dampak...</td>\n",
       "      <td>finance</td>\n",
       "    </tr>\n",
       "    <tr>\n",
       "      <th>4</th>\n",
       "      <td>02/26/2020</td>\n",
       "      <td>https://finance.detik.com/berita-ekonomi-bisni...</td>\n",
       "      <td>Saran Buat Anies-RK yang Mangkir Rapat Banjir ...</td>\n",
       "      <td>finance</td>\n",
       "    </tr>\n",
       "  </tbody>\n",
       "</table>\n",
       "</div>"
      ],
      "text/plain": [
       "         date                                                url  \\\n",
       "0  02/26/2020  https://finance.detik.com/berita-ekonomi-bisni...   \n",
       "1  02/26/2020  https://finance.detik.com/berita-ekonomi-bisni...   \n",
       "2  02/26/2020  https://finance.detik.com/berita-ekonomi-bisni...   \n",
       "3  02/26/2020  https://finance.detik.com/moneter/d-4916133/oj...   \n",
       "4  02/26/2020  https://finance.detik.com/berita-ekonomi-bisni...   \n",
       "\n",
       "                                               title category  \n",
       "0                     Kemnaker Awasi TKA di Meikarta  finance  \n",
       "1                  BNI Digitalkan BNI Java Jazz 2020  finance  \n",
       "2  Terbang ke Australia, Edhy Prabowo Mau Genjot ...  finance  \n",
       "3  OJK Siapkan Stimulus Ekonomi Antisipasi Dampak...  finance  \n",
       "4  Saran Buat Anies-RK yang Mangkir Rapat Banjir ...  finance  "
      ]
     },
     "execution_count": 1,
     "metadata": {},
     "output_type": "execute_result"
    }
   ],
   "source": [
    "import pandas as pd\n",
    "from tqdm import tqdm\n",
    "\n",
    "tqdm.pandas()\n",
    "\n",
    "df = pd.read_csv('data/indonesian-news-title.csv')\n",
    "df.head()"
   ]
  },
  {
   "cell_type": "code",
   "execution_count": null,
   "metadata": {},
   "outputs": [],
   "source": [
    "# Total rows in each category\n",
    "df['category'].value_counts()"
   ]
  },
  {
   "cell_type": "code",
   "execution_count": 2,
   "metadata": {},
   "outputs": [
    {
     "data": {
      "text/plain": [
       "category\n",
       "finance     8.494001\n",
       "food       10.707068\n",
       "health      9.733889\n",
       "hot         9.100796\n",
       "inet        8.015071\n",
       "news       10.043850\n",
       "oto         8.791923\n",
       "sport       8.158046\n",
       "travel      8.131457\n",
       "Name: word_count, dtype: float64"
      ]
     },
     "execution_count": 2,
     "metadata": {},
     "output_type": "execute_result"
    }
   ],
   "source": [
    "# Get average words in each category\n",
    "df['word_count'] = df['title'].apply(lambda x: len(x.split()))\n",
    "df.groupby('category')['word_count'].mean()"
   ]
  },
  {
   "cell_type": "code",
   "execution_count": 3,
   "metadata": {},
   "outputs": [
    {
     "data": {
      "text/plain": [
       "category\n",
       "finance    54.488354\n",
       "food       66.314253\n",
       "health     63.867249\n",
       "hot        59.409063\n",
       "inet       52.488830\n",
       "news       65.721508\n",
       "oto        57.179101\n",
       "sport      54.797619\n",
       "travel     53.277761\n",
       "Name: char_count, dtype: float64"
      ]
     },
     "execution_count": 3,
     "metadata": {},
     "output_type": "execute_result"
    }
   ],
   "source": [
    "# Get average characters in each category\n",
    "df['char_count'] = df['title'].apply(lambda x: len(str(x)))\n",
    "df.groupby('category')['char_count'].mean()"
   ]
  },
  {
   "cell_type": "code",
   "execution_count": 4,
   "metadata": {},
   "outputs": [
    {
     "data": {
      "text/html": [
       "<div>\n",
       "<style scoped>\n",
       "    .dataframe tbody tr th:only-of-type {\n",
       "        vertical-align: middle;\n",
       "    }\n",
       "\n",
       "    .dataframe tbody tr th {\n",
       "        vertical-align: top;\n",
       "    }\n",
       "\n",
       "    .dataframe thead th {\n",
       "        text-align: right;\n",
       "    }\n",
       "</style>\n",
       "<table border=\"1\" class=\"dataframe\">\n",
       "  <thead>\n",
       "    <tr style=\"text-align: right;\">\n",
       "      <th></th>\n",
       "      <th>date</th>\n",
       "      <th>url</th>\n",
       "      <th>title</th>\n",
       "      <th>category</th>\n",
       "      <th>word_count</th>\n",
       "      <th>char_count</th>\n",
       "    </tr>\n",
       "  </thead>\n",
       "  <tbody>\n",
       "    <tr>\n",
       "      <th>1906</th>\n",
       "      <td>04/17/2020</td>\n",
       "      <td>https://finance.detik.com/detiktv/d-4980330/bl...</td>\n",
       "      <td>Blak-blakan Kartu Pra Kerja dan 'Nepotisme' de...</td>\n",
       "      <td>finance</td>\n",
       "      <td>9</td>\n",
       "      <td>62</td>\n",
       "    </tr>\n",
       "    <tr>\n",
       "      <th>3299</th>\n",
       "      <td>04/20/2020</td>\n",
       "      <td>https://finance.detik.com/detiktv/d-4983283/me...</td>\n",
       "      <td>Menteri Perdagangan Buka Kartu Stok Sembako Sa...</td>\n",
       "      <td>finance</td>\n",
       "      <td>8</td>\n",
       "      <td>55</td>\n",
       "    </tr>\n",
       "    <tr>\n",
       "      <th>3732</th>\n",
       "      <td>03/09/2020</td>\n",
       "      <td>https://finance.detik.com/market-research/d-49...</td>\n",
       "      <td>IHSG Diperkirakan Melemah di Awal Pekan</td>\n",
       "      <td>finance</td>\n",
       "      <td>6</td>\n",
       "      <td>39</td>\n",
       "    </tr>\n",
       "    <tr>\n",
       "      <th>5613</th>\n",
       "      <td>03/11/2020</td>\n",
       "      <td>https://finance.detik.com/berita-ekonomi-bisni...</td>\n",
       "      <td>Harga Emas Antam Turun Rp 3.000</td>\n",
       "      <td>finance</td>\n",
       "      <td>6</td>\n",
       "      <td>31</td>\n",
       "    </tr>\n",
       "    <tr>\n",
       "      <th>5779</th>\n",
       "      <td>01/22/2020</td>\n",
       "      <td>https://finance.detik.com/fintech/d-4868943/lo...</td>\n",
       "      <td>Lokasi Kantor Jadi Syarat Pinjol Dapat Izin OJK</td>\n",
       "      <td>finance</td>\n",
       "      <td>8</td>\n",
       "      <td>47</td>\n",
       "    </tr>\n",
       "    <tr>\n",
       "      <th>...</th>\n",
       "      <td>...</td>\n",
       "      <td>...</td>\n",
       "      <td>...</td>\n",
       "      <td>...</td>\n",
       "      <td>...</td>\n",
       "      <td>...</td>\n",
       "    </tr>\n",
       "    <tr>\n",
       "      <th>89764</th>\n",
       "      <td>01/18/2020</td>\n",
       "      <td>https://travel.detik.com/fototravel/d-4864101/...</td>\n",
       "      <td>Aksi Para Penunggang Kuda Menerobos Kobaran Ap...</td>\n",
       "      <td>travel</td>\n",
       "      <td>9</td>\n",
       "      <td>58</td>\n",
       "    </tr>\n",
       "    <tr>\n",
       "      <th>89932</th>\n",
       "      <td>04/03/2020</td>\n",
       "      <td>https://travel.detik.com/travel-news/d-4963492...</td>\n",
       "      <td>Rasakan Kenyamanan Work From Hotel di Fraser R...</td>\n",
       "      <td>travel</td>\n",
       "      <td>9</td>\n",
       "      <td>62</td>\n",
       "    </tr>\n",
       "    <tr>\n",
       "      <th>90206</th>\n",
       "      <td>06/03/2020</td>\n",
       "      <td>https://travel.detik.com/travel-news/d-5039514...</td>\n",
       "      <td>New Normal, VW Cabrio Borobudur Siap Sambut Wi...</td>\n",
       "      <td>travel</td>\n",
       "      <td>8</td>\n",
       "      <td>53</td>\n",
       "    </tr>\n",
       "    <tr>\n",
       "      <th>90444</th>\n",
       "      <td>04/14/2020</td>\n",
       "      <td>https://travel.detik.com/fototravel/d-4977157/...</td>\n",
       "      <td>5 Negara yang Diprediksi Paling Cepat Bangkit ...</td>\n",
       "      <td>travel</td>\n",
       "      <td>9</td>\n",
       "      <td>57</td>\n",
       "    </tr>\n",
       "    <tr>\n",
       "      <th>90922</th>\n",
       "      <td>04/29/2020</td>\n",
       "      <td>https://travel.detik.com/galeri-foto/d-4995695...</td>\n",
       "      <td>Keindahan Musim Semi yang Dirundung Corona</td>\n",
       "      <td>travel</td>\n",
       "      <td>6</td>\n",
       "      <td>42</td>\n",
       "    </tr>\n",
       "  </tbody>\n",
       "</table>\n",
       "<p>126 rows × 6 columns</p>\n",
       "</div>"
      ],
      "text/plain": [
       "             date                                                url  \\\n",
       "1906   04/17/2020  https://finance.detik.com/detiktv/d-4980330/bl...   \n",
       "3299   04/20/2020  https://finance.detik.com/detiktv/d-4983283/me...   \n",
       "3732   03/09/2020  https://finance.detik.com/market-research/d-49...   \n",
       "5613   03/11/2020  https://finance.detik.com/berita-ekonomi-bisni...   \n",
       "5779   01/22/2020  https://finance.detik.com/fintech/d-4868943/lo...   \n",
       "...           ...                                                ...   \n",
       "89764  01/18/2020  https://travel.detik.com/fototravel/d-4864101/...   \n",
       "89932  04/03/2020  https://travel.detik.com/travel-news/d-4963492...   \n",
       "90206  06/03/2020  https://travel.detik.com/travel-news/d-5039514...   \n",
       "90444  04/14/2020  https://travel.detik.com/fototravel/d-4977157/...   \n",
       "90922  04/29/2020  https://travel.detik.com/galeri-foto/d-4995695...   \n",
       "\n",
       "                                                   title category  word_count  \\\n",
       "1906   Blak-blakan Kartu Pra Kerja dan 'Nepotisme' de...  finance           9   \n",
       "3299   Menteri Perdagangan Buka Kartu Stok Sembako Sa...  finance           8   \n",
       "3732             IHSG Diperkirakan Melemah di Awal Pekan  finance           6   \n",
       "5613                     Harga Emas Antam Turun Rp 3.000  finance           6   \n",
       "5779     Lokasi Kantor Jadi Syarat Pinjol Dapat Izin OJK  finance           8   \n",
       "...                                                  ...      ...         ...   \n",
       "89764  Aksi Para Penunggang Kuda Menerobos Kobaran Ap...   travel           9   \n",
       "89932  Rasakan Kenyamanan Work From Hotel di Fraser R...   travel           9   \n",
       "90206  New Normal, VW Cabrio Borobudur Siap Sambut Wi...   travel           8   \n",
       "90444  5 Negara yang Diprediksi Paling Cepat Bangkit ...   travel           9   \n",
       "90922         Keindahan Musim Semi yang Dirundung Corona   travel           6   \n",
       "\n",
       "       char_count  \n",
       "1906           62  \n",
       "3299           55  \n",
       "3732           39  \n",
       "5613           31  \n",
       "5779           47  \n",
       "...           ...  \n",
       "89764          58  \n",
       "89932          62  \n",
       "90206          53  \n",
       "90444          57  \n",
       "90922          42  \n",
       "\n",
       "[126 rows x 6 columns]"
      ]
     },
     "execution_count": 4,
     "metadata": {},
     "output_type": "execute_result"
    }
   ],
   "source": [
    "# Is there any duplicated rows?\n",
    "df[df['title'].duplicated()]"
   ]
  },
  {
   "cell_type": "code",
   "execution_count": 5,
   "metadata": {},
   "outputs": [
    {
     "name": "stderr",
     "output_type": "stream",
     "text": [
      "WARNING: You are using pip version 21.2.3; however, version 23.0.1 is available.\n",
      "You should consider upgrading via the 'C:\\Users\\ottot\\AppData\\Local\\Programs\\Python\\Python310\\python.exe -m pip install --upgrade pip' command.\n"
     ]
    }
   ],
   "source": [
    "!pip install Sastrawi --quiet"
   ]
  },
  {
   "cell_type": "code",
   "execution_count": 6,
   "metadata": {},
   "outputs": [
    {
     "name": "stderr",
     "output_type": "stream",
     "text": [
      "[nltk_data] Downloading package punkt to\n",
      "[nltk_data]     C:\\Users\\ottot\\AppData\\Roaming\\nltk_data...\n",
      "[nltk_data]   Unzipping tokenizers\\punkt.zip.\n",
      "[nltk_data] Downloading package stopwords to\n",
      "[nltk_data]     C:\\Users\\ottot\\AppData\\Roaming\\nltk_data...\n",
      "[nltk_data]   Package stopwords is already up-to-date!\n",
      "[nltk_data] Downloading package wordnet to\n",
      "[nltk_data]     C:\\Users\\ottot\\AppData\\Roaming\\nltk_data...\n",
      "[nltk_data]   Package wordnet is already up-to-date!\n",
      "[nltk_data] Downloading package omw-1.4 to\n",
      "[nltk_data]     C:\\Users\\ottot\\AppData\\Roaming\\nltk_data...\n"
     ]
    },
    {
     "name": "stdout",
     "output_type": "stream",
     "text": [
      "Completed\n"
     ]
    }
   ],
   "source": [
    "import nltk\n",
    "\n",
    "# Tokenizing\n",
    "nltk.download('punkt')\n",
    "# Stopwords removal\n",
    "nltk.download('stopwords')\n",
    "# Lemmatizer\n",
    "nltk.download('wordnet')\n",
    "nltk.download('omw-1.4')\n",
    "\n",
    "print('Completed')"
   ]
  },
  {
   "cell_type": "code",
   "execution_count": 7,
   "metadata": {},
   "outputs": [
    {
     "data": {
      "text/plain": [
       "finance    14168\n",
       "travel      6466\n",
       "inet        5640\n",
       "health      4919\n",
       "oto         4383\n",
       "food        4315\n",
       "sport       2436\n",
       "Name: category, dtype: int64"
      ]
     },
     "execution_count": 7,
     "metadata": {},
     "output_type": "execute_result"
    }
   ],
   "source": [
    "# Dellete \"news\" and \"hot\" category to remove any overlapping category\n",
    "df.drop(df[df.category == 'news'].index, inplace=True)\n",
    "df.drop(df[df.category == 'hot'].index, inplace=True)\n",
    "\n",
    "# See category stats\n",
    "df['category'].value_counts()"
   ]
  },
  {
   "cell_type": "code",
   "execution_count": 8,
   "metadata": {},
   "outputs": [
    {
     "data": {
      "text/plain": [
       "0                           Kemnaker Awasi TKA di Meikarta\n",
       "1                        BNI Digitalkan BNI Java Jazz 2020\n",
       "2        Terbang ke Australia, Edhy Prabowo Mau Genjot ...\n",
       "3        OJK Siapkan Stimulus Ekonomi Antisipasi Dampak...\n",
       "4        Saran Buat Anies-RK yang Mangkir Rapat Banjir ...\n",
       "                               ...                        \n",
       "91012    Ketumpahan Air Panas di Pesawat, Kamu Bisa Tun...\n",
       "91013    Foto: Bali & 9 Destinasi Paling Instagramable ...\n",
       "91014    Game Bikin Turis Ini Liburan ke Jepang untuk.....\n",
       "91015    Sekeluarga Didepak dari Pesawat, Maskapai Bila...\n",
       "91016    Kapal Raib di Segitiga Bermuda, Nyaris Seabad ...\n",
       "Name: title, Length: 42264, dtype: object"
      ]
     },
     "execution_count": 8,
     "metadata": {},
     "output_type": "execute_result"
    }
   ],
   "source": [
    "df.drop(df[df['title'].duplicated()].index, inplace=True)\n",
    "df['title']"
   ]
  },
  {
   "cell_type": "code",
   "execution_count": 9,
   "metadata": {},
   "outputs": [
    {
     "data": {
      "text/plain": [
       "0                           kemnaker awasi tka di meikarta\n",
       "1                            bni digitalkan bni java jazz \n",
       "2        terbang ke australia edhy prabowo mau genjot b...\n",
       "3        ojk siapkan stimulus ekonomi antisipasi dampak...\n",
       "4        saran buat anies rk yang mangkir rapat banjir ...\n",
       "                               ...                        \n",
       "91012    ketumpahan air panas di pesawat kamu bisa tunt...\n",
       "91013      foto bali destinasi paling instagramable tahun \n",
       "91014    game bikin turis ini liburan ke jepang untuk c...\n",
       "91015    sekeluarga didepak dari pesawat maskapai bilan...\n",
       "91016    kapal raib di segitiga bermuda nyaris seabad b...\n",
       "Name: title, Length: 42264, dtype: object"
      ]
     },
     "execution_count": 9,
     "metadata": {},
     "output_type": "execute_result"
    }
   ],
   "source": [
    "import re, string\n",
    "\n",
    "# Cleaning\n",
    "def cleaning(text):\n",
    "  # Case folding\n",
    "  text = text.lower() \n",
    "  # Trim text\n",
    "  text = text.strip()\n",
    "  # Remove punctuations, special characters, and double whitespace\n",
    "  text = re.compile('<.*?>').sub('', text) \n",
    "  text = re.compile('[%s]' % re.escape(string.punctuation)).sub(' ', text)\n",
    "  text = re.sub('\\s+', ' ', text)\n",
    "  # Number removal\n",
    "  text = re.sub(r'\\[[0-9]*\\]', ' ', text) \n",
    "  text = re.sub(r'[^\\w\\s]', '', str(text).lower().strip())\n",
    "  # Remove number and whitespaces\n",
    "  text = re.sub(r'\\d', ' ', text)\n",
    "  text = re.sub(r'\\s+', ' ', text)\n",
    "\n",
    "  return text\n",
    "\n",
    "df['title'] = df['title'].apply(lambda x: cleaning(x))\n",
    "df['title']"
   ]
  },
  {
   "cell_type": "code",
   "execution_count": 10,
   "metadata": {},
   "outputs": [
    {
     "data": {
      "text/plain": [
       "0                     [kemnaker, awasi, tka, di, meikarta]\n",
       "1                       [bni, digitalkan, bni, java, jazz]\n",
       "2        [terbang, ke, australia, edhy, prabowo, mau, g...\n",
       "3        [ojk, siapkan, stimulus, ekonomi, antisipasi, ...\n",
       "4        [saran, buat, anies, rk, yang, mangkir, rapat,...\n",
       "                               ...                        \n",
       "91012    [ketumpahan, air, panas, di, pesawat, kamu, bi...\n",
       "91013    [foto, bali, destinasi, paling, instagramable,...\n",
       "91014    [game, bikin, turis, ini, liburan, ke, jepang,...\n",
       "91015    [sekeluarga, didepak, dari, pesawat, maskapai,...\n",
       "91016    [kapal, raib, di, segitiga, bermuda, nyaris, s...\n",
       "Name: tokens, Length: 42264, dtype: object"
      ]
     },
     "execution_count": 10,
     "metadata": {},
     "output_type": "execute_result"
    }
   ],
   "source": [
    "from nltk.tokenize import word_tokenize\n",
    "\n",
    "df['tokens'] = df['title'].apply(lambda x: word_tokenize(x))\n",
    "df['tokens']"
   ]
  },
  {
   "cell_type": "code",
   "execution_count": 11,
   "metadata": {},
   "outputs": [
    {
     "data": {
      "text/plain": [
       "0                         [kemnaker, awasi, tka, meikarta]\n",
       "1                       [bni, digitalkan, bni, java, jazz]\n",
       "2        [terbang, australia, edhy, prabowo, genjot, bu...\n",
       "3        [ojk, siapkan, stimulus, ekonomi, antisipasi, ...\n",
       "4          [saran, anies, rk, mangkir, rapat, banjir, dpr]\n",
       "                               ...                        \n",
       "91012    [ketumpahan, air, panas, pesawat, tuntut, mask...\n",
       "91013               [foto, bali, destinasi, instagramable]\n",
       "91014    [game, bikin, turis, liburan, jepang, cari, ya...\n",
       "91015    [sekeluarga, didepak, pesawat, maskapai, bilan...\n",
       "91016     [kapal, raib, segitiga, bermuda, seabad, ketemu]\n",
       "Name: tokens, Length: 42264, dtype: object"
      ]
     },
     "execution_count": 11,
     "metadata": {},
     "output_type": "execute_result"
    }
   ],
   "source": [
    "from nltk.corpus import stopwords \n",
    "from nltk.tokenize import word_tokenize\n",
    "from itertools import chain\n",
    "\n",
    "stop_words = set(chain(stopwords.words('indonesian'), stopwords.words('english')))\n",
    "\n",
    "df['tokens'].apply(lambda x: [w for w in x if not w in stop_words])"
   ]
  },
  {
   "cell_type": "code",
   "execution_count": 12,
   "metadata": {},
   "outputs": [
    {
     "name": "stderr",
     "output_type": "stream",
     "text": [
      "100%|██████████| 42264/42264 [17:32<00:00, 40.15it/s]  \n"
     ]
    },
    {
     "data": {
      "text/plain": [
       "0                      [kemnaker, awas, tka, di, meikarta]\n",
       "1                          [bni, digital, bni, java, jazz]\n",
       "2        [terbang, ke, australia, edhy, prabowo, mau, g...\n",
       "3        [ojk, siap, stimulus, ekonomi, antisipasi, dam...\n",
       "4        [saran, buat, anies, rk, yang, mangkir, rapat,...\n",
       "                               ...                        \n",
       "91012    [tumpah, air, panas, di, pesawat, kamu, bisa, ...\n",
       "91013    [foto, bal, destinasi, paling, instagramable, ...\n",
       "91014    [game, bikin, turis, ini, libur, ke, jepang, u...\n",
       "91015    [keluarga, depak, dari, pesawat, maskapai, bil...\n",
       "91016    [kapal, raib, di, segitiga, muda, nyaris, abad...\n",
       "Name: tokens, Length: 42264, dtype: object"
      ]
     },
     "execution_count": 12,
     "metadata": {},
     "output_type": "execute_result"
    }
   ],
   "source": [
    "from Sastrawi.Stemmer.StemmerFactory import StemmerFactory\n",
    "\n",
    "factory = StemmerFactory()\n",
    "stemmer = factory.create_stemmer()\n",
    " \n",
    "df['tokens'] = df['tokens'].progress_apply(lambda x: stemmer.stem(' '.join(x)).split(' '))\n",
    "df['tokens']"
   ]
  },
  {
   "cell_type": "code",
   "execution_count": 14,
   "metadata": {},
   "outputs": [],
   "source": [
    "import numpy as np\n",
    "save = np.save(\"tokenized.npy\",df['tokens'])"
   ]
  },
  {
   "cell_type": "code",
   "execution_count": 16,
   "metadata": {},
   "outputs": [],
   "source": [
    "from sklearn.model_selection import train_test_split\n",
    "df['joined_tokens'] = df['tokens'].apply(lambda x: ' '.join(x))\n",
    "X_train, X_test, y_train, y_test = train_test_split(df['joined_tokens'], df['category'], test_size=0.3, random_state=42)"
   ]
  },
  {
   "cell_type": "code",
   "execution_count": 17,
   "metadata": {},
   "outputs": [
    {
     "name": "stdout",
     "output_type": "stream",
     "text": [
      "Train size:  (29584, 6379)\n",
      "Test size:  (12680, 6379)\n"
     ]
    }
   ],
   "source": [
    "from sklearn.feature_extraction.text import TfidfVectorizer\n",
    "\n",
    "tfidf_vectorizer = TfidfVectorizer(use_idf=True, min_df=0.0001, max_df=0.02, lowercase=False)\n",
    "\n",
    "X_train_vectors_tfidf = tfidf_vectorizer.fit_transform(X_train) \n",
    "X_test_vectors_tfidf = tfidf_vectorizer.transform(X_test)\n",
    "\n",
    "print('Train size: ', X_train_vectors_tfidf.shape)\n",
    "print('Test size: ', X_test_vectors_tfidf.shape)"
   ]
  },
  {
   "cell_type": "code",
   "execution_count": 18,
   "metadata": {},
   "outputs": [
    {
     "data": {
      "text/plain": [
       "finance    9824\n",
       "travel     4450\n",
       "inet       3977\n",
       "health     3468\n",
       "food       3085\n",
       "oto        3072\n",
       "sport      1708\n",
       "Name: category, dtype: int64"
      ]
     },
     "execution_count": 18,
     "metadata": {},
     "output_type": "execute_result"
    }
   ],
   "source": [
    "y_train.value_counts()"
   ]
  },
  {
   "cell_type": "code",
   "execution_count": 19,
   "metadata": {},
   "outputs": [],
   "source": [
    "from imblearn.over_sampling import SMOTE\n",
    "\n",
    "X_train_resampled, y_train_resampled = SMOTE(random_state=42).fit_resample(X_train_vectors_tfidf, y_train)"
   ]
  },
  {
   "cell_type": "code",
   "execution_count": 20,
   "metadata": {},
   "outputs": [
    {
     "data": {
      "text/plain": [
       "travel     9824\n",
       "oto        9824\n",
       "finance    9824\n",
       "inet       9824\n",
       "health     9824\n",
       "sport      9824\n",
       "food       9824\n",
       "Name: category, dtype: int64"
      ]
     },
     "execution_count": 20,
     "metadata": {},
     "output_type": "execute_result"
    }
   ],
   "source": [
    "y_train_resampled.value_counts()"
   ]
  },
  {
   "cell_type": "code",
   "execution_count": 21,
   "metadata": {},
   "outputs": [
    {
     "name": "stdout",
     "output_type": "stream",
     "text": [
      "Accuracy score :  0.851813880126183\n",
      "Precision score :  0.8537693004036402\n",
      "Recall score :  0.851813880126183\n",
      "F1 score :  0.850900878288006\n"
     ]
    }
   ],
   "source": [
    "from sklearn.svm import SVC\n",
    "from sklearn.metrics import accuracy_score, precision_score, recall_score, f1_score\n",
    "\n",
    "clf = SVC(kernel='rbf')\n",
    "history = clf.fit(X_train_resampled, y_train_resampled)\n",
    "\n",
    "y_pred = clf.predict(X_test_vectors_tfidf)\n",
    "\n",
    "print('Accuracy score : ', accuracy_score(y_test, y_pred))\n",
    "print('Precision score : ', precision_score(y_test, y_pred, average='weighted'))\n",
    "print('Recall score : ', recall_score(y_test, y_pred, average='weighted'))\n",
    "print('F1 score : ', f1_score(y_test, y_pred, average='weighted'))"
   ]
  },
  {
   "cell_type": "code",
   "execution_count": null,
   "metadata": {},
   "outputs": [],
   "source": [
    "epochs = len(history.support_)\n",
    "fig, ax = plt.subplots()\n",
    "ax.plot(range(1, epochs + 1), history.dual_coef_.ravel())\n",
    "ax.set_xlabel('Epochs')\n",
    "ax.set_ylabel('Dual coefficients')\n",
    "ax.set_title('Training and validation accuracy')\n",
    "ax.legend(['Training accuracy', 'Validation accuracy'])\n",
    "plt.show()"
   ]
  },
  {
   "cell_type": "code",
   "execution_count": null,
   "metadata": {},
   "outputs": [],
   "source": [
    "import pickle\n",
    "filename = 'SVM_model.sav'\n",
    "pickle.dump(model, open(filename, 'wb'))"
   ]
  }
 ],
 "metadata": {
  "kernelspec": {
   "display_name": "Python 3",
   "language": "python",
   "name": "python3"
  },
  "language_info": {
   "codemirror_mode": {
    "name": "ipython",
    "version": 3
   },
   "file_extension": ".py",
   "mimetype": "text/x-python",
   "name": "python",
   "nbconvert_exporter": "python",
   "pygments_lexer": "ipython3",
   "version": "3.10.0"
  },
  "orig_nbformat": 4
 },
 "nbformat": 4,
 "nbformat_minor": 2
}
